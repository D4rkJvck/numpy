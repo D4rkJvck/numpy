{
 "cells": [
  {
   "cell_type": "markdown",
   "id": "af9bceed",
   "metadata": {},
   "source": [
    "# H1 TITLE\n",
    "## H2 TITLE"
   ]
  },
  {
   "cell_type": "code",
   "execution_count": 2,
   "id": "f8b00384-f763-4d47-8aed-1725832c7458",
   "metadata": {},
   "outputs": [
    {
     "name": "stdout",
     "output_type": "stream",
     "text": [
      "Buy the dip ?\n"
     ]
    }
   ],
   "source": [
    "print(\"Buy the dip ?\")"
   ]
  },
  {
   "cell_type": "code",
   "execution_count": 3,
   "id": "9334c11e-7fca-4c75-a543-492a51994d37",
   "metadata": {},
   "outputs": [
    {
     "name": "stdout",
     "output_type": "stream",
     "text": [
      "<class 'int'>\n",
      "<class 'float'>\n",
      "<class 'str'>\n",
      "<class 'dict'>\n",
      "<class 'list'>\n",
      "<class 'tuple'>\n",
      "<class 'set'>\n",
      "<class 'bool'>\n"
     ]
    }
   ],
   "source": [
    "# Exercise 1\n",
    "\n",
    "import numpy as np\n",
    "np.set_printoptions(linewidth=np.inf, threshold=1000)\n",
    "\n",
    "arr = np.array([10, 3.14, \"numpy\", {'k': 'v'}, [1, 2], (3, 4), {5, 6}, True], dtype=object)\n",
    "\n",
    "for i in arr:\n",
    "    print(type(i))"
   ]
  },
  {
   "cell_type": "code",
   "execution_count": 4,
   "id": "77df7368-ff59-4ddc-b2e1-ce27e867464a",
   "metadata": {},
   "outputs": [
    {
     "name": "stdout",
     "output_type": "stream",
     "text": [
      "[0. 0. 0. 0. 0. 0. 0. 0. 0. 0. 0. 0. 0. 0. 0. 0. 0. 0. 0. 0. 0. 0. 0. 0. 0. 0. 0. 0. 0. 0. 0. 0. 0. 0. 0. 0. 0. 0. 0. 0. 0. 0. 0. 0. 0. 0. 0. 0. 0. 0. 0. 0. 0. 0. 0. 0. 0. 0. 0. 0. 0. 0. 0. 0. 0. 0. 0. 0. 0. 0. 0. 0. 0. 0. 0. 0. 0. 0. 0. 0. 0. 0. 0. 0. 0. 0. 0. 0. 0. 0. 0. 0. 0. 0. 0. 0. 0. 0. 0. 0. 0. 0. 0. 0. 0. 0. 0. 0. 0. 0. 0. 0. 0. 0. 0. 0. 0. 0. 0. 0. 0. 0. 0. 0. 0. 0. 0. 0. 0. 0. 0. 0. 0. 0. 0. 0. 0. 0. 0. 0. 0. 0. 0. 0. 0. 0. 0. 0. 0. 0. 0. 0. 0. 0. 0. 0. 0. 0. 0. 0. 0. 0. 0. 0. 0. 0. 0. 0. 0. 0. 0. 0. 0. 0. 0. 0. 0. 0. 0. 0. 0. 0. 0. 0. 0. 0. 0. 0. 0. 0. 0. 0. 0. 0. 0. 0. 0. 0. 0. 0. 0. 0. 0. 0. 0. 0. 0. 0. 0. 0. 0. 0. 0. 0. 0. 0. 0. 0. 0. 0. 0. 0. 0. 0. 0. 0. 0. 0. 0. 0. 0. 0. 0. 0. 0. 0. 0. 0. 0. 0. 0. 0. 0. 0. 0. 0. 0. 0. 0. 0. 0. 0. 0. 0. 0. 0. 0. 0. 0. 0. 0. 0. 0. 0. 0. 0. 0. 0. 0. 0. 0. 0. 0. 0. 0. 0. 0. 0. 0. 0. 0. 0. 0. 0. 0. 0. 0. 0. 0. 0. 0. 0. 0. 0. 0. 0. 0. 0. 0. 0.]\n",
      "[[0. 0. 0. 0. 0. 0. 0. 0. 0. 0. 0. 0. 0. 0. 0. 0. 0. 0. 0. 0. 0. 0. 0. 0. 0. 0. 0. 0. 0. 0. 0. 0. 0. 0. 0. 0. 0. 0. 0. 0. 0. 0. 0. 0. 0. 0. 0. 0. 0. 0. 0. 0. 0. 0. 0. 0. 0. 0. 0. 0. 0. 0. 0. 0. 0. 0. 0. 0. 0. 0. 0. 0. 0. 0. 0. 0. 0. 0. 0. 0. 0. 0. 0. 0. 0. 0. 0. 0. 0. 0. 0. 0. 0. 0. 0. 0. 0. 0. 0. 0.]\n",
      " [0. 0. 0. 0. 0. 0. 0. 0. 0. 0. 0. 0. 0. 0. 0. 0. 0. 0. 0. 0. 0. 0. 0. 0. 0. 0. 0. 0. 0. 0. 0. 0. 0. 0. 0. 0. 0. 0. 0. 0. 0. 0. 0. 0. 0. 0. 0. 0. 0. 0. 0. 0. 0. 0. 0. 0. 0. 0. 0. 0. 0. 0. 0. 0. 0. 0. 0. 0. 0. 0. 0. 0. 0. 0. 0. 0. 0. 0. 0. 0. 0. 0. 0. 0. 0. 0. 0. 0. 0. 0. 0. 0. 0. 0. 0. 0. 0. 0. 0. 0.]\n",
      " [0. 0. 0. 0. 0. 0. 0. 0. 0. 0. 0. 0. 0. 0. 0. 0. 0. 0. 0. 0. 0. 0. 0. 0. 0. 0. 0. 0. 0. 0. 0. 0. 0. 0. 0. 0. 0. 0. 0. 0. 0. 0. 0. 0. 0. 0. 0. 0. 0. 0. 0. 0. 0. 0. 0. 0. 0. 0. 0. 0. 0. 0. 0. 0. 0. 0. 0. 0. 0. 0. 0. 0. 0. 0. 0. 0. 0. 0. 0. 0. 0. 0. 0. 0. 0. 0. 0. 0. 0. 0. 0. 0. 0. 0. 0. 0. 0. 0. 0. 0.]]\n"
     ]
    }
   ],
   "source": [
    "# Exercise 2\n",
    "\n",
    "zero = np.zeros(300)\n",
    "print(zero)\n",
    "\n",
    "reshaped = zero.reshape(3, 100)\n",
    "print(reshaped)"
   ]
  },
  {
   "cell_type": "code",
   "execution_count": 5,
   "id": "b0e553b6-4a5b-446e-ae95-c54b281de8b3",
   "metadata": {},
   "outputs": [
    {
     "name": "stdout",
     "output_type": "stream",
     "text": [
      "[ 1  3  5  7  9 11 13 15 17 19 21 23 25 27 29 31 33 35 37 39 41 43 45 47 49 51 53 55 57 59 61 63 65 67 69 71 73 75 77 79 81 83 85 87 89 91 93 95 97 99]\n",
      "[100  98  96  94  92  90  88  86  84  82  80  78  76  74  72  70  68  66  64  62  60  58  56  54  52  50  48  46  44  42  40  38  36  34  32  30  28  26  24  22  20  18  16  14  12  10   8   6   4   2]\n",
      "[  1   0   3   4   0   6   7   0   9  10   0  12  13   0  15  16   0  18  19   0  21  22   0  24  25   0  27  28   0  30  31   0  33  34   0  36  37   0  39  40   0  42  43   0  45  46   0  48  49   0  51  52   0  54  55   0  57  58   0  60  61   0  63  64   0  66  67   0  69  70   0  72  73   0  75  76   0  78  79   0  81  82   0  84  85   0  87  88   0  90  91   0  93  94   0  96  97   0  99 100]\n"
     ]
    }
   ],
   "source": [
    "# Exercise 3\n",
    "\n",
    "nums = np.arange(1, 101)\n",
    "\n",
    "odd_nums = nums[::2]\n",
    "print(odd_nums)\n",
    "\n",
    "even_nums_rev = nums[1::2][::-1]\n",
    "print(even_nums_rev)\n",
    "\n",
    "nums_copy = nums.copy()\n",
    "nums_copy[1::3] = 0\n",
    "print(nums_copy)"
   ]
  },
  {
   "cell_type": "code",
   "execution_count": 6,
   "id": "2cbc7cee-bdeb-48c8-ba3a-ad36105c3b22",
   "metadata": {},
   "outputs": [
    {
     "name": "stdout",
     "output_type": "stream",
     "text": [
      "[[ 9  8  4  6  9  1  3  2]\n",
      " [ 3  9  9  5  4  7  2  8]\n",
      " [ 5  6  9  1  1  6  8  7]\n",
      " [ 7  1  4  1 10  4  3  5]\n",
      " [ 5 10  1 10  7 10  6  1]\n",
      " [ 6  8  7  4  6 10  3  5]\n",
      " [ 4 10  7  9  9 10  9  9]\n",
      " [ 5  3  2 10  8  5  5  3]]\n",
      "[[[ 5  2 13 16 15]\n",
      "  [ 5  5  2 11  3]]\n",
      "\n",
      " [[ 8 13  6  4 17]\n",
      "  [ 2  8  1 13 10]]\n",
      "\n",
      " [[12 17 17 12  1]\n",
      "  [10  8 17  5 11]]\n",
      "\n",
      " [[ 9 14  2 15 13]\n",
      "  [12 14  6 14  2]]]\n"
     ]
    }
   ],
   "source": [
    "# Exercise 4\n",
    "\n",
    "np.random.seed(888)\n",
    "np.random.randn(100)\n",
    "\n",
    "rank2 = np.random.randint(1, 11, size=(8, 8))\n",
    "print(rank2)\n",
    "\n",
    "rank3 = np.random.randint(1, 18, (4, 2, 5,))\n",
    "print(rank3) # No need to precise size= if positional"
   ]
  },
  {
   "cell_type": "code",
   "execution_count": 7,
   "id": "df238d9c-6e59-41b7-b7a3-397cf1a4f249",
   "metadata": {},
   "outputs": [
    {
     "name": "stdout",
     "output_type": "stream",
     "text": [
      "[ 1  2  3  4  5  6  7  8  9 10 11 12 13 14 15 16 17 18 19 20 21 22 23 24 25 26 27 28 29 30 31 32 33 34 35 36 37 38 39 40 41 42 43 44 45 46 47 48 49 50]\n",
      "[ 51  52  53  54  55  56  57  58  59  60  61  62  63  64  65  66  67  68  69  70  71  72  73  74  75  76  77  78  79  80  81  82  83  84  85  86  87  88  89  90  91  92  93  94  95  96  97  98  99 100]\n",
      "[  1   2   3   4   5   6   7   8   9  10  11  12  13  14  15  16  17  18  19  20  21  22  23  24  25  26  27  28  29  30  31  32  33  34  35  36  37  38  39  40  41  42  43  44  45  46  47  48  49  50  51  52  53  54  55  56  57  58  59  60  61  62  63  64  65  66  67  68  69  70  71  72  73  74  75  76  77  78  79  80  81  82  83  84  85  86  87  88  89  90  91  92  93  94  95  96  97  98  99 100]\n",
      "[[  1   2   3   4   5   6   7   8   9  10]\n",
      " [ 11  12  13  14  15  16  17  18  19  20]\n",
      " [ 21  22  23  24  25  26  27  28  29  30]\n",
      " [ 31  32  33  34  35  36  37  38  39  40]\n",
      " [ 41  42  43  44  45  46  47  48  49  50]\n",
      " [ 51  52  53  54  55  56  57  58  59  60]\n",
      " [ 61  62  63  64  65  66  67  68  69  70]\n",
      " [ 71  72  73  74  75  76  77  78  79  80]\n",
      " [ 81  82  83  84  85  86  87  88  89  90]\n",
      " [ 91  92  93  94  95  96  97  98  99 100]]\n"
     ]
    }
   ],
   "source": [
    "# Exercise 5\n",
    "\n",
    "first = np.arange(1, 51)\n",
    "print(first)\n",
    "\n",
    "second = np.arange(51, 101)\n",
    "print(second)\n",
    "\n",
    "concatenated = np.concatenate((first, second))\n",
    "print(concatenated)\n",
    "\n",
    "reshaped = concatenated.reshape(10, 10)\n",
    "print(reshaped)"
   ]
  },
  {
   "cell_type": "code",
   "execution_count": 8,
   "id": "6a9850dc",
   "metadata": {},
   "outputs": [
    {
     "name": "stdout",
     "output_type": "stream",
     "text": [
      "[[1 1 1 1 1 1 1 1 1]\n",
      " [1 1 1 1 1 1 1 1 1]\n",
      " [1 1 1 1 1 1 1 1 1]\n",
      " [1 1 1 1 1 1 1 1 1]\n",
      " [1 1 1 1 1 1 1 1 1]\n",
      " [1 1 1 1 1 1 1 1 1]\n",
      " [1 1 1 1 1 1 1 1 1]\n",
      " [1 1 1 1 1 1 1 1 1]\n",
      " [1 1 1 1 1 1 1 1 1]]\n",
      "\n",
      "[[1 1 1 1 1 1 1 1 1]\n",
      " [1 0 0 0 0 0 0 0 1]\n",
      " [1 0 1 1 1 1 1 0 1]\n",
      " [1 0 1 0 0 0 1 0 1]\n",
      " [1 0 1 0 1 0 1 0 1]\n",
      " [1 0 1 0 0 0 1 0 1]\n",
      " [1 0 1 1 1 1 1 0 1]\n",
      " [1 0 0 0 0 0 0 0 1]\n",
      " [1 1 1 1 1 1 1 1 1]]\n",
      "\n",
      "[[ 1  2  3]\n",
      " [ 2  4  6]\n",
      " [ 3  6  9]\n",
      " [ 4  8 12]\n",
      " [ 5 10 15]]\n"
     ]
    }
   ],
   "source": [
    "# Exercise 6\n",
    "\n",
    "rank2 = np.ones((9, 9), dtype=np.int8)\n",
    "print(f'{rank2}\\n')\n",
    "\n",
    "rank2[1:-1, 1:-1] = 0\n",
    "rank2[2:-2, 2:-2] = 1\n",
    "rank2[3:-3, 3:-3] = 0\n",
    "rank2[4, 4] = 1\n",
    "print(f'{rank2}\\n')\n",
    "\n",
    "array_1 = np.array([1, 2, 3, 4, 5], dtype=np.int8)\n",
    "array_2 = np.array([1, 2, 3], dtype=np.int8)\n",
    "reshaped = array_1.reshape(-1, 1) # Dynamic reshape: (5, 1) in this case\n",
    "broadcast = reshaped * array_2\n",
    "print(broadcast)"
   ]
  },
  {
   "cell_type": "code",
   "execution_count": 9,
   "id": "ed7515bb",
   "metadata": {},
   "outputs": [
    {
     "name": "stdout",
     "output_type": "stream",
     "text": [
      "[[ 7.  1.  7.]\n",
      " [nan  2.  2.]\n",
      " [nan  8.  8.]\n",
      " [ 9.  3.  9.]\n",
      " [ 8.  9.  8.]\n",
      " [nan  2.  2.]\n",
      " [ 8.  2.  8.]\n",
      " [nan  6.  6.]\n",
      " [ 9.  2.  9.]\n",
      " [ 8.  5.  8.]]\n"
     ]
    }
   ],
   "source": [
    "# Exercise  7\n",
    "\n",
    "generator = np.random.default_rng(123)\n",
    "grades = np.round(generator.uniform(low = 0., high = 10., size = (10, 2)))\n",
    "grades[[1, 2, 5, 7], 0] = np.nan\n",
    "\n",
    "final = np.where(np.isnan(grades[:, 0]), grades[:, 1], grades[:, 0]).reshape(-1, 1)\n",
    "print(np.concatenate((grades, final), axis=1))"
   ]
  },
  {
   "cell_type": "code",
   "execution_count": 14,
   "id": "b8d42eb8",
   "metadata": {},
   "outputs": [
    {
     "name": "stdout",
     "output_type": "stream",
     "text": [
      "[[   nan    nan    nan ...    nan    nan    nan]\n",
      " [ 7.4    0.7    0.    ...  0.56   9.4    5.   ]\n",
      " [ 7.8    0.88   0.    ...  0.68   9.8    5.   ]\n",
      " ...\n",
      " [ 6.3    0.51   0.13  ...  0.75  11.     6.   ]\n",
      " [ 5.9    0.645  0.12  ...  0.71  10.2    5.   ]\n",
      " [ 6.     0.31   0.47  ...  0.66  11.     6.   ]]\n",
      "76800\n",
      "[[ 7.4     0.7     0.      1.9     0.076  11.     34.      0.9978  3.51    0.56    9.4     5.    ]\n",
      " [ 7.4     0.66    0.      1.8     0.075  13.     40.      0.9978  3.51    0.56    9.4     5.    ]\n",
      " [ 6.7     0.58    0.08    1.8     0.097  15.     65.      0.9959  3.28    0.54    9.2     5.    ]]\n",
      "False\n",
      "10.422984\n",
      "2.74\n",
      "4.01\n",
      "3.21\n",
      "3.31\n",
      "3.40\n",
      "3.31\n",
      "5.2\n",
      "[ 8.566666    0.4233333   0.39111114  2.5777776   0.06844445 13.277778   33.444443    0.99521226  3.2672222   0.76777774 12.094444    8.        ]\n",
      "[ 8.359999    0.8845      0.17099999  2.6350002   0.12249999 11.         24.9         0.997464    3.398       0.57000005  9.955       3.        ]\n"
     ]
    }
   ],
   "source": [
    "# Exercise 8\n",
    "\n",
    "data = np.genfromtxt('data/winequality-red.csv', delimiter=';', dtype=np.float32)\n",
    "print(data)\n",
    "print(data.nbytes)\n",
    "\n",
    "data_slice = data[[1, 6, 11]]\n",
    "print(data_slice)\n",
    "\n",
    "high_alcohol = np.any(data[:, 10] > 20.)\n",
    "print(high_alcohol)\n",
    "\n",
    "alcohol_mean = np.mean(data[:, 10][~np.isnan(data[:, 10])])\n",
    "print(alcohol_mean)\n",
    "\n",
    "ph_values = data[:, 8][~np.isnan(data[:, 8])]\n",
    "\n",
    "min_ph = np.min(ph_values)\n",
    "print(min_ph)\n",
    "\n",
    "max_ph = np.max(ph_values)\n",
    "print(max_ph)\n",
    "\n",
    "perc25 = format(np.percentile(ph_values, 25), '.2f')\n",
    "print(perc25)\n",
    "\n",
    "perc50 = format(np.percentile(ph_values, 50), '.2f')\n",
    "print(perc50)\n",
    "\n",
    "perc75 = format(np.percentile(ph_values, 75), '.2f')\n",
    "print(perc75)\n",
    "\n",
    "ph_mean = format(np.mean(ph_values), '.2f')\n",
    "print(ph_mean)\n",
    "\n",
    "sulfate_col = data[:, 9]\n",
    "sulfate_val = sulfate_col[~np.isnan(sulfate_col)]\n",
    "percentile_20 = np.percentile(sulfate_val, 20)\n",
    "\n",
    "quality_col = data[:, -1]\n",
    "quality_val = quality_col[~np.isnan(quality_col)]\n",
    "filtered = quality_col[sulfate_col < percentile_20]\n",
    "quality_mean = np.mean(filtered)\n",
    "print(format(quality_mean, '.1f'))\n",
    "\n",
    "max_quality = np.max(quality_val)\n",
    "max_quality_mask = quality_col == max_quality\n",
    "best_quality_data = data[max_quality_mask]\n",
    "max_mean = np.mean(best_quality_data, axis=0)\n",
    "print(max_mean)\n",
    "\n",
    "min_quality = np.min(quality_val)\n",
    "min_quality_mask = quality_col == min_quality\n",
    "worst_quality_data = data[min_quality_mask]\n",
    "min_mean = np.mean(worst_quality_data, axis=0)\n",
    "print(min_mean)\n",
    "\n"
   ]
  },
  {
   "cell_type": "code",
   "execution_count": null,
   "id": "5ed71505",
   "metadata": {},
   "outputs": [],
   "source": [
    "# Exercise 9\n",
    "\n"
   ]
  }
 ],
 "metadata": {
  "kernelspec": {
   "display_name": "Python 3 (ipykernel)",
   "language": "python",
   "name": "python3"
  },
  "language_info": {
   "codemirror_mode": {
    "name": "ipython",
    "version": 3
   },
   "file_extension": ".py",
   "mimetype": "text/x-python",
   "name": "python",
   "nbconvert_exporter": "python",
   "pygments_lexer": "ipython3",
   "version": "3.10.16"
  }
 },
 "nbformat": 4,
 "nbformat_minor": 5
}
