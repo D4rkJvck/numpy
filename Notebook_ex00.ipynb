{
 "cells": [
  {
   "cell_type": "code",
   "execution_count": 28,
   "id": "d2fd66e8-4bf2-418e-a3a9-0f5bd5d387db",
   "metadata": {},
   "outputs": [],
   "source": [
    "# Exercise 0\n",
    "\n",
    "# H1 TITLE\n",
    "## H2 TITLE"
   ]
  },
  {
   "cell_type": "code",
   "execution_count": 2,
   "id": "f8b00384-f763-4d47-8aed-1725832c7458",
   "metadata": {},
   "outputs": [
    {
     "name": "stdout",
     "output_type": "stream",
     "text": [
      "Buy the dip ?\n"
     ]
    }
   ],
   "source": [
    "print(\"Buy the dip ?\")"
   ]
  },
  {
   "cell_type": "code",
   "execution_count": 4,
   "id": "9334c11e-7fca-4c75-a543-492a51994d37",
   "metadata": {},
   "outputs": [
    {
     "name": "stdout",
     "output_type": "stream",
     "text": [
      "<class 'int'>\n",
      "<class 'float'>\n",
      "<class 'str'>\n",
      "<class 'dict'>\n",
      "<class 'list'>\n",
      "<class 'tuple'>\n",
      "<class 'set'>\n",
      "<class 'bool'>\n"
     ]
    }
   ],
   "source": [
    "# Exercise 1\n",
    "\n",
    "import numpy as np\n",
    "\n",
    "arr = np.array([10, 3.14, \"numpy\", {'k': 'v'}, [1, 2], (3, 4), {5, 6}, True], dtype=object)\n",
    "\n",
    "for i in arr:\n",
    "    print(type(i))"
   ]
  },
  {
   "cell_type": "code",
   "execution_count": 21,
   "id": "77df7368-ff59-4ddc-b2e1-ce27e867464a",
   "metadata": {},
   "outputs": [],
   "source": [
    "# Exercise 2\n",
    "\n",
    "zero = np.zeros(300)\n",
    "reshaped = zero.reshape(3, 100)\n",
    "\n",
    "# print(reshaped)"
   ]
  },
  {
   "cell_type": "code",
   "execution_count": 19,
   "id": "b0e553b6-4a5b-446e-ae95-c54b281de8b3",
   "metadata": {},
   "outputs": [],
   "source": [
    "# Exercise 3\n",
    "\n",
    "nums = np.arange(1, 101)\n",
    "odd_nums = nums[::2]\n",
    "even_nums_rev = nums[1::2][::-1]\n",
    "nums_copy = nums.copy()\n",
    "nums_copy[1::3] = 0\n",
    "\n",
    "# print(nums_copy)"
   ]
  },
  {
   "cell_type": "code",
   "execution_count": 26,
   "id": "2cbc7cee-bdeb-48c8-ba3a-ad36105c3b22",
   "metadata": {},
   "outputs": [],
   "source": [
    "# Exercise 4\n",
    "\n",
    "np.random.seed(888)\n",
    "rand1dim = np.random.randn(100)\n",
    "rand2dim = np.random.randint(1, 11, size=(8, 8))\n",
    "rand3dim = np.random.randint(1, 18, size=(4, 2, 5,))\n",
    "\n",
    "# print(rand3dim)"
   ]
  },
  {
   "cell_type": "code",
   "execution_count": null,
   "id": "df238d9c-6e59-41b7-b7a3-397cf1a4f249",
   "metadata": {},
   "outputs": [],
   "source": []
  }
 ],
 "metadata": {
  "kernelspec": {
   "display_name": "Python 3 (ipykernel)",
   "language": "python",
   "name": "python3"
  },
  "language_info": {
   "codemirror_mode": {
    "name": "ipython",
    "version": 3
   },
   "file_extension": ".py",
   "mimetype": "text/x-python",
   "name": "python",
   "nbconvert_exporter": "python",
   "pygments_lexer": "ipython3",
   "version": "3.8.20"
  }
 },
 "nbformat": 4,
 "nbformat_minor": 5
}
