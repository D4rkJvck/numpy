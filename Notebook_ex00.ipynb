{
 "cells": [
  {
   "cell_type": "code",
   "execution_count": 28,
   "id": "d2fd66e8-4bf2-418e-a3a9-0f5bd5d387db",
   "metadata": {},
   "outputs": [],
   "source": [
    "# Exercise 0\n",
    "\n",
    "# H1 TITLE\n",
    "## H2 TITLE"
   ]
  },
  {
   "cell_type": "code",
   "execution_count": 2,
   "id": "f8b00384-f763-4d47-8aed-1725832c7458",
   "metadata": {},
   "outputs": [
    {
     "name": "stdout",
     "output_type": "stream",
     "text": [
      "Buy the dip ?\n"
     ]
    }
   ],
   "source": [
    "print(\"Buy the dip ?\")"
   ]
  },
  {
   "cell_type": "code",
   "execution_count": 4,
   "id": "9334c11e-7fca-4c75-a543-492a51994d37",
   "metadata": {},
   "outputs": [
    {
     "name": "stdout",
     "output_type": "stream",
     "text": [
      "<class 'int'>\n",
      "<class 'float'>\n",
      "<class 'str'>\n",
      "<class 'dict'>\n",
      "<class 'list'>\n",
      "<class 'tuple'>\n",
      "<class 'set'>\n",
      "<class 'bool'>\n"
     ]
    }
   ],
   "source": [
    "# Exercise 1\n",
    "\n",
    "import numpy as np\n",
    "\n",
    "arr = np.array([10, 3.14, \"numpy\", {'k': 'v'}, [1, 2], (3, 4), {5, 6}, True], dtype=object)\n",
    "\n",
    "for i in arr:\n",
    "    print(type(i))"
   ]
  },
  {
   "cell_type": "code",
   "execution_count": 25,
   "id": "77df7368-ff59-4ddc-b2e1-ce27e867464a",
   "metadata": {},
   "outputs": [
    {
     "data": {
      "text/plain": [
       "array([[0., 0., 0., 0., 0., 0., 0., 0., 0., 0., 0., 0., 0., 0., 0., 0.,\n",
       "        0., 0., 0., 0., 0., 0., 0., 0., 0., 0., 0., 0., 0., 0., 0., 0.,\n",
       "        0., 0., 0., 0., 0., 0., 0., 0., 0., 0., 0., 0., 0., 0., 0., 0.,\n",
       "        0., 0., 0., 0., 0., 0., 0., 0., 0., 0., 0., 0., 0., 0., 0., 0.,\n",
       "        0., 0., 0., 0., 0., 0., 0., 0., 0., 0., 0., 0., 0., 0., 0., 0.,\n",
       "        0., 0., 0., 0., 0., 0., 0., 0., 0., 0., 0., 0., 0., 0., 0., 0.,\n",
       "        0., 0., 0., 0.],\n",
       "       [0., 0., 0., 0., 0., 0., 0., 0., 0., 0., 0., 0., 0., 0., 0., 0.,\n",
       "        0., 0., 0., 0., 0., 0., 0., 0., 0., 0., 0., 0., 0., 0., 0., 0.,\n",
       "        0., 0., 0., 0., 0., 0., 0., 0., 0., 0., 0., 0., 0., 0., 0., 0.,\n",
       "        0., 0., 0., 0., 0., 0., 0., 0., 0., 0., 0., 0., 0., 0., 0., 0.,\n",
       "        0., 0., 0., 0., 0., 0., 0., 0., 0., 0., 0., 0., 0., 0., 0., 0.,\n",
       "        0., 0., 0., 0., 0., 0., 0., 0., 0., 0., 0., 0., 0., 0., 0., 0.,\n",
       "        0., 0., 0., 0.],\n",
       "       [0., 0., 0., 0., 0., 0., 0., 0., 0., 0., 0., 0., 0., 0., 0., 0.,\n",
       "        0., 0., 0., 0., 0., 0., 0., 0., 0., 0., 0., 0., 0., 0., 0., 0.,\n",
       "        0., 0., 0., 0., 0., 0., 0., 0., 0., 0., 0., 0., 0., 0., 0., 0.,\n",
       "        0., 0., 0., 0., 0., 0., 0., 0., 0., 0., 0., 0., 0., 0., 0., 0.,\n",
       "        0., 0., 0., 0., 0., 0., 0., 0., 0., 0., 0., 0., 0., 0., 0., 0.,\n",
       "        0., 0., 0., 0., 0., 0., 0., 0., 0., 0., 0., 0., 0., 0., 0., 0.,\n",
       "        0., 0., 0., 0.]])"
      ]
     },
     "execution_count": 25,
     "metadata": {},
     "output_type": "execute_result"
    }
   ],
   "source": [
    "# Exercise 2\n",
    "\n",
    "zero = np.zeros(300)\n",
    "reshaped = zero.reshape(3, 100)\n",
    "reshaped"
   ]
  },
  {
   "cell_type": "code",
   "execution_count": 17,
   "id": "b0e553b6-4a5b-446e-ae95-c54b281de8b3",
   "metadata": {},
   "outputs": [
    {
     "data": {
      "text/plain": [
       "array([  1,   0,   3,   4,   0,   6,   7,   0,   9,  10,   0,  12,  13,\n",
       "         0,  15,  16,   0,  18,  19,   0,  21,  22,   0,  24,  25,   0,\n",
       "        27,  28,   0,  30,  31,   0,  33,  34,   0,  36,  37,   0,  39,\n",
       "        40,   0,  42,  43,   0,  45,  46,   0,  48,  49,   0,  51,  52,\n",
       "         0,  54,  55,   0,  57,  58,   0,  60,  61,   0,  63,  64,   0,\n",
       "        66,  67,   0,  69,  70,   0,  72,  73,   0,  75,  76,   0,  78,\n",
       "        79,   0,  81,  82,   0,  84,  85,   0,  87,  88,   0,  90,  91,\n",
       "         0,  93,  94,   0,  96,  97,   0,  99, 100])"
      ]
     },
     "execution_count": 17,
     "metadata": {},
     "output_type": "execute_result"
    }
   ],
   "source": [
    "# Exercise 3\n",
    "\n",
    "nums = np.arange(1, 101)\n",
    "odd_nums = nums[::2]\n",
    "even_nums_rev = nums[1::2][::-1]\n",
    "nums_copy = nums.copy()\n",
    "nums_copy[1::3] = 0\n",
    "nums_copy"
   ]
  },
  {
   "cell_type": "code",
   "execution_count": 18,
   "id": "2cbc7cee-bdeb-48c8-ba3a-ad36105c3b22",
   "metadata": {},
   "outputs": [
    {
     "data": {
      "text/plain": [
       "array([[[ 5,  2, 13, 16, 15],\n",
       "        [ 5,  5,  2, 11,  3]],\n",
       "\n",
       "       [[ 8, 13,  6,  4, 17],\n",
       "        [ 2,  8,  1, 13, 10]],\n",
       "\n",
       "       [[12, 17, 17, 12,  1],\n",
       "        [10,  8, 17,  5, 11]],\n",
       "\n",
       "       [[ 9, 14,  2, 15, 13],\n",
       "        [12, 14,  6, 14,  2]]])"
      ]
     },
     "execution_count": 18,
     "metadata": {},
     "output_type": "execute_result"
    }
   ],
   "source": [
    "# Exercise 4\n",
    "\n",
    "np.random.seed(888)\n",
    "rand1dim = np.random.randn(100)\n",
    "rand2dim = np.random.randint(1, 11, size=(8, 8))\n",
    "rand3dim = np.random.randint(1, 18, size=(4, 2, 5,))\n",
    "rand3dim"
   ]
  },
  {
   "cell_type": "code",
   "execution_count": 8,
   "id": "df238d9c-6e59-41b7-b7a3-397cf1a4f249",
   "metadata": {},
   "outputs": [
    {
     "name": "stdout",
     "output_type": "stream",
     "text": [
      "[[  1   2   3   4   5   6   7   8   9  10  11  12  13  14  15  16  17  18\n",
      "   19  20]\n",
      " [ 21  22  23  24  25  26  27  28  29  30  31  32  33  34  35  36  37  38\n",
      "   39  40]\n",
      " [ 41  42  43  44  45  46  47  48  49  50  51  52  53  54  55  56  57  58\n",
      "   59  60]\n",
      " [ 61  62  63  64  65  66  67  68  69  70  71  72  73  74  75  76  77  78\n",
      "   79  80]\n",
      " [ 81  82  83  84  85  86  87  88  89  90  91  92  93  94  95  96  97  98\n",
      "   99 100]]\n"
     ]
    }
   ],
   "source": [
    "# Exercise 5\n",
    "\n",
    "first = np.arange(1, 51)\n",
    "second = np.arange(51, 101)\n",
    "concatenated = np.concatenate((first, second))\n",
    "reshaped = concatenated.reshape(5, 20)\n",
    "print(reshaped)"
   ]
  },
  {
   "cell_type": "code",
   "execution_count": 9,
   "id": "6a9850dc",
   "metadata": {},
   "outputs": [
    {
     "name": "stdout",
     "output_type": "stream",
     "text": [
      "[[1 1 1 1 1 1 1 1 1]\n",
      " [1 1 1 1 1 1 1 1 1]\n",
      " [1 1 1 1 1 1 1 1 1]\n",
      " [1 1 1 1 1 1 1 1 1]\n",
      " [1 1 1 1 1 1 1 1 1]\n",
      " [1 1 1 1 1 1 1 1 1]\n",
      " [1 1 1 1 1 1 1 1 1]\n",
      " [1 1 1 1 1 1 1 1 1]\n",
      " [1 1 1 1 1 1 1 1 1]]\n",
      "\n",
      "[[1 1 1 1 1 1 1 1 1]\n",
      " [1 0 0 0 0 0 0 0 1]\n",
      " [1 0 1 1 1 1 1 0 1]\n",
      " [1 0 1 0 0 0 1 0 1]\n",
      " [1 0 1 0 1 0 1 0 1]\n",
      " [1 0 1 0 0 0 1 0 1]\n",
      " [1 0 1 1 1 1 1 0 1]\n",
      " [1 0 0 0 0 0 0 0 1]\n",
      " [1 1 1 1 1 1 1 1 1]]\n",
      "\n",
      "[[ 1  2  3]\n",
      " [ 2  4  6]\n",
      " [ 3  6  9]\n",
      " [ 4  8 12]\n",
      " [ 5 10 15]]\n"
     ]
    }
   ],
   "source": [
    "# Exercise 6\n",
    "\n",
    "matrix_9 = np.ones((9, 9), dtype=np.int8)\n",
    "print(f'{matrix_9}\\n')\n",
    "\n",
    "matrix_9[1:-1, 1:-1] = 0\n",
    "matrix_9[2:-2, 2:-2] = 1\n",
    "matrix_9[3:-3, 3:-3] = 0\n",
    "matrix_9[4, 4] = 1\n",
    "print(f'{matrix_9}\\n')\n",
    "\n",
    "array_1 = np.array([1, 2, 3, 4, 5], dtype=np.int8)\n",
    "array_2 = np.array([1, 2, 3], dtype=np.int8)\n",
    "reshaped = array_1.reshape(-1, 1) # Dynamic reshape: (5, 1) in this case\n",
    "print(reshaped * array_2)  "
   ]
  },
  {
   "cell_type": "code",
   "execution_count": 36,
   "id": "ed7515bb",
   "metadata": {},
   "outputs": [
    {
     "name": "stdout",
     "output_type": "stream",
     "text": [
      "[[ 7.  1.]\n",
      " [nan  2.]\n",
      " [nan  8.]\n",
      " [ 9.  3.]\n",
      " [ 8.  9.]\n",
      " [nan  2.]\n",
      " [ 8.  2.]\n",
      " [nan  6.]\n",
      " [ 9.  2.]\n",
      " [ 8.  5.]]\n",
      "\n",
      "[[ 7.  1.  7.]\n",
      " [nan  2.  2.]\n",
      " [nan  8.  8.]\n",
      " [ 9.  3.  9.]\n",
      " [ 8.  9.  8.]\n",
      " [nan  2.  2.]\n",
      " [ 8.  2.  8.]\n",
      " [nan  6.  6.]\n",
      " [ 9.  2.  9.]\n",
      " [ 8.  5.  8.]]\n"
     ]
    }
   ],
   "source": [
    "# Exercise  7\n",
    "\n",
    "generator = np.random.default_rng(123)\n",
    "grades = np.round(generator.uniform(low = 0., high = 10., size = (10, 2)))\n",
    "grades[[1, 2, 5, 7], 0] = np.nan\n",
    "print(f'{grades}\\n')\n",
    "\n",
    "final = np.where(np.isnan(grades[:, 0]), grades[:, 1], grades[:, 0]).reshape(-1, 1)\n",
    "\n",
    "concatenated = np.concatenate((grades, final), axis=1)\n",
    "\n",
    "print(concatenated)"
   ]
  },
  {
   "cell_type": "code",
   "execution_count": null,
   "id": "b8d42eb8",
   "metadata": {},
   "outputs": [],
   "source": []
  }
 ],
 "metadata": {
  "kernelspec": {
   "display_name": "Python 3",
   "language": "python",
   "name": "python3"
  },
  "language_info": {
   "codemirror_mode": {
    "name": "ipython",
    "version": 3
   },
   "file_extension": ".py",
   "mimetype": "text/x-python",
   "name": "python",
   "nbconvert_exporter": "python",
   "pygments_lexer": "ipython3",
   "version": "3.8.20"
  }
 },
 "nbformat": 4,
 "nbformat_minor": 5
}
